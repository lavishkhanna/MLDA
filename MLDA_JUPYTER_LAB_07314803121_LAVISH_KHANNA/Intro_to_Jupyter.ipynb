{
 "cells": [
  {
   "cell_type": "code",
   "execution_count": 1,
   "id": "5c11c7f4-0949-4309-9999-e6249ff48e7a",
   "metadata": {},
   "outputs": [],
   "source": [
    "# No code required for this task. Simply launch Jupyter Notebook and create a new notebook named \"Intro_to_Jupyter.ipynb\"."
   ]
  },
  {
   "cell_type": "code",
   "execution_count": 2,
   "id": "f4a21ec5-2d9e-446a-a504-eb3dfd986b92",
   "metadata": {},
   "outputs": [
    {
     "data": {
      "text/plain": [
       "4"
      ]
     },
     "execution_count": 2,
     "metadata": {},
     "output_type": "execute_result"
    }
   ],
   "source": [
    "# Creating a Markdown cell\n",
    "# Just type in a Markdown cell: \"# Introduction to Jupyter Notebooks\"\n",
    "# This will create a heading indicating an introduction to Jupyter Notebooks.\n",
    "\n",
    "# Creating a Code cell\n",
    "2 + 2\n",
    "# This will output 4 when the cell is executed."
   ]
  },
  {
   "cell_type": "markdown",
   "id": "25290c0f-d5e6-4add-ad52-6eeba553a7fc",
   "metadata": {},
   "source": [
    "# Markdown Basics for Text Formatting\r\n",
    "\r\n",
    "## Basic Syntax\r\n",
    "\r\n",
    "**Bold Text**  \r\n",
    "*Italic Text*  \r\n",
    "`Inline Code`\r\n",
    "\r\n",
    "### Headings\r\n",
    "\r\n",
    "#### Example of a nested heading\r\n",
    "\r\n",
    "## Lists\r\n",
    "\r\n",
    "### Unordered List\r\n",
    "- Item 1\r\n",
    "- Item 2\r\n",
    "  - Subitem 2.1\r\n",
    "  - Subitem 2.2\r\n",
    "\r\n",
    "### Ordered List\r\n",
    "1. First item\r\n",
    "2. Second item\r\n",
    "3. Third item\r\n",
    "\r\n",
    "## Inserting https://media.istockphoto.com/id/470604022/photo/apple-tree-without-flowers-or-fruit-isolated-on-white.jpg?s=1024x1024&w=is&k=20&c=9Tp2EZrdzzzXDJ-9vszPeAC5KD-dCerVhVltrRd_bDc=[Image Alt Text](image_url)\r\n",
    "\r\n",
    "## Inserhttps://in.bookmyshow.com/person/aditya-srivastava/74Text](https://www.example.com)\r\n",
    "\r\n",
    "## Favorite Programming Languages\r\n",
    "1. Python\r\n",
    "2. JavaScript\r\n",
    "3. Java\r\n",
    "4. C++\r\n"
   ]
  },
  {
   "cell_type": "code",
   "execution_count": 14,
   "id": "31a68e63-509d-47ad-86a1-b300f17b2fce",
   "metadata": {},
   "outputs": [
    {
     "name": "stdout",
     "output_type": "stream",
     "text": [
      "120\n",
      "3.0\n"
     ]
    },
    {
     "data": {
      "image/png": "[encoded data removed]",
      "text/plain": [
       "<Figure size 640x480 with 1 Axes>"
      ]
     },
     "metadata": {},
     "output_type": "display_data"
    }
   ],
   "source": [
    "# Writing a Python function to calculate factorial\n",
    "def factorial(n):\n",
    "    if n == 0:\n",
    "        return 1\n",
    "    else:\n",
    "        return n * factorial(n-1)\n",
    "\n",
    "# Testing the factorial function\n",
    "print(factorial(5))  # Output: 120\n",
    "\n",
    "# Importing NumPy library\n",
    "import numpy as np\n",
    "\n",
    "# Using NumPy to calculate mean\n",
    "numbers = [1, 2, 3, 4, 5]\n",
    "mean = np.mean(numbers)\n",
    "print(mean)  # Output: 3.0\n",
    "\n",
    "# Visualizing data using Matplotlib\n",
    "import matplotlib.pyplot as plt\n",
    "plt.plot([1, 2, 3, 4], [1, 4, 9, 16])\n",
    "plt.xlabel('X-axis')\n",
    "plt.ylabel('Y-axis')\n",
    "plt.title('Simple Plot')\n",
    "plt.show()\n"
   ]
  },
  {
   "cell_type": "code",
   "execution_count": 15,
   "id": "33160ed1-ce90-491d-89a5-4ba672856e0f",
   "metadata": {},
   "outputs": [],
   "source": [
    "# No specific code needed for this task. Just observe how to switch kernels within a notebook and reset/clear outputs.\n",
    "\n",
    "# To switch kernels, go to the Kernel menu and select \"Change kernel\". Then choose the desired kernel.\n",
    "\n",
    "# To reset kernel and clear outputs, go to the Kernel menu and select \"Restart & Clear Output\".\n"
   ]
  },
  {
   "cell_type": "code",
   "execution_count": 19,
   "id": "07f8ea75-3d84-4019-b403-48f75884890d",
   "metadata": {},
   "outputs": [],
   "source": [
    "# No code needed, but you can export the notebook as PDF and HTML by using the \"File\" menu and selecting \"Download as\".\n",
    "\n",
    "#Alternative\n",
    "# Exporting notebook as PDF\n",
    "#!jupyter nbconvert --to pdf your_notebook.ipynb\n",
    "\n",
    "# Exporting notebook as HTML\n",
    "#!jupyter nbconvert --to html your_notebook.ipynb\n",
    "\n",
    "\n",
    "\n",
    "#Discuss when different export formats might be useful.\n",
    "# PDF: Useful for sharing finalized documents with others, especially when you want to preserve the layout \n",
    "# and ensure consistent viewing across different devices.\n",
    "\n",
    "# HTML: Great for sharing interactive notebooks online, as it maintains the interactive elements such as \n",
    "# code execution, plots, and widgets. It's also suitable for hosting on websites or sharing via email.\n",
    "\n",
    "# Slideshows: When you need to present your notebook as a slideshow, such as in a conference or classroom \n",
    "# setting, converting it into a slideshow format can make it more engaging and easier to follow for the audience.\n",
    "\n",
    "# By exporting your notebook in different formats, you can cater to various use cases and ensure that your \n",
    "# work is accessible and presentable in different contexts.\n"
   ]
  },
  {
   "cell_type": "code",
   "execution_count": null,
   "id": "c794e150-ca4c-4b18-a468-841a22bb519a",
   "metadata": {},
   "outputs": [],
   "source": [
    "# Step 1: Upload your notebook to a public GitHub repository\n",
    "# - Create a new repository on GitHub\n",
    "# - Push your Jupyter Notebook file (e.g., Intro_to_Jupyter.ipynb) to the repository\n",
    "\n",
    "# Step 2: Use nbviewer to view your notebook online\n",
    "# - Go to https://nbviewer.jupyter.org/\n",
    "# - Enter the URL of your notebook file in the \"Enter the location of a Jupyter Notebook to have it rendered here:\" field\n",
    "# - Click on \"Go\"\n",
    "\n",
    "# Step 3: Share the nbviewer link with others\n",
    "# - Once your notebook is rendered in nbviewer, copy the URL from the address bar of your browser\n",
    "# - Share this URL with others by pasting it in the document you submit online\n"
   ]
  }
 ],
 "metadata": {
  "kernelspec": {
   "display_name": "Python 3 (ipykernel)",
   "language": "python",
   "name": "python3"
  },
  "language_info": {
   "codemirror_mode": {
    "name": "ipython",
    "version": 3
   },
   "file_extension": ".py",
   "mimetype": "text/x-python",
   "name": "python",
   "nbconvert_exporter": "python",
   "pygments_lexer": "ipython3",
   "version": "3.12.1"
  }
 },
 "nbformat": 4,
 "nbformat_minor": 5
}
